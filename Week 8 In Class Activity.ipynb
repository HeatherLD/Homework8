{
 "cells": [
  {
   "cell_type": "markdown",
   "id": "7df1f478",
   "metadata": {},
   "source": [
    "# Group Activity Week 8\n",
    "### Heather Leighton-Dick"
   ]
  },
  {
   "cell_type": "code",
   "execution_count": 50,
   "id": "b99dc6b0",
   "metadata": {},
   "outputs": [],
   "source": [
    "import pandas as pd\n",
    "import numpy as np\n",
    "\n",
    "import math\n",
    "import statistics\n",
    "from scipy import stats\n",
    "import matplotlib.pyplot as plt\n",
    "\n",
    "belize_listings_path = \"belize_airbnb_listings.csv\"\n",
    "belize_df = pd.read_csv(belize_listings_path)\n",
    "belize_df = pd.DataFrame(belize_df)\n"
   ]
  },
  {
   "cell_type": "markdown",
   "id": "4d028b5e",
   "metadata": {},
   "source": [
    "### #1 Three Different Means, Definitions, and Examples"
   ]
  },
  {
   "cell_type": "markdown",
   "id": "b0b62aa3",
   "metadata": {},
   "source": [
    "### Arithmetic Mean\n",
    "the sum of a set of values divided by the number of values in the set\n"
   ]
  },
  {
   "cell_type": "code",
   "execution_count": 49,
   "id": "d976e076",
   "metadata": {},
   "outputs": [
    {
     "data": {
      "text/plain": [
       "availability_365    280.315451\n",
       "dtype: float64"
      ]
     },
     "execution_count": 49,
     "metadata": {},
     "output_type": "execute_result"
    }
   ],
   "source": [
    "#the average number of days each property is available for rental:\n",
    "\n",
    "belize_df[[\"availability_365\"]].mean()"
   ]
  },
  {
   "cell_type": "markdown",
   "id": "6d15850e",
   "metadata": {},
   "source": [
    "### Harmonic Mean\n",
    "the reciprocal of the arithmetic mean of the reciprocals of the given set\n"
   ]
  },
  {
   "cell_type": "code",
   "execution_count": 4,
   "id": "d041d080",
   "metadata": {},
   "outputs": [
    {
     "name": "stdout",
     "output_type": "stream",
     "text": [
      "170.99338501026463\n"
     ]
    }
   ],
   "source": [
    "#the average price per night per rental, figured with a harmonic mean:\n",
    "\n",
    "print(stats.hmean(belize_df['price']))"
   ]
  },
  {
   "cell_type": "markdown",
   "id": "02ef4b7f",
   "metadata": {},
   "source": [
    "### Geometric Mean\n",
    "the n-root of the product of the values in a set, where n is the number of values in the set\n"
   ]
  },
  {
   "cell_type": "code",
   "execution_count": 5,
   "id": "3aae1c91",
   "metadata": {},
   "outputs": [
    {
     "name": "stdout",
     "output_type": "stream",
     "text": [
      "234.7347175108817\n"
     ]
    }
   ],
   "source": [
    "#the average price per night per rental, figured with a geometric mean:\n",
    "print(stats.gmean(belize_df['price']))"
   ]
  },
  {
   "cell_type": "markdown",
   "id": "c575644f",
   "metadata": {},
   "source": [
    "### #2 Sorting Function\n",
    "Write a function to sort several subsequent inputs alphabetically. For example, if you first\n",
    "input ‘banana’ and next input ‘apple’, the first time [‘banana’] will be the output but the\n",
    "second time [‘apple’,’banana’] will be the output. The results should be stored until you\n",
    "restart your kernel. There are several approaches that will work, but using a global\n",
    "variable is likely the easiest."
   ]
  },
  {
   "cell_type": "code",
   "execution_count": 45,
   "id": "e9730ad1",
   "metadata": {},
   "outputs": [
    {
     "name": "stdout",
     "output_type": "stream",
     "text": [
      "Add a word: apple\n",
      "['apple']\n",
      "Add a word: zucchini\n",
      "['apple', 'zucchini']\n",
      "Add a word: tangerine\n",
      "['apple', 'tangerine', 'zucchini']\n",
      "Add a word: banana\n",
      "['apple', 'banana', 'tangerine', 'zucchini']\n",
      "Add a word: cherry\n",
      "['apple', 'banana', 'cherry', 'tangerine', 'zucchini']\n",
      "Add a word: peach\n",
      "['apple', 'banana', 'cherry', 'peach', 'tangerine', 'zucchini']\n"
     ]
    }
   ],
   "source": [
    "wordlist = []\n",
    "word = \"\"\n",
    "maxLengthList = 6\n",
    "\n",
    "def alphasort():\n",
    "    while len(wordlist) < maxLengthList:\n",
    "        word = input(\"Add a word: \")\n",
    "        wordlist.append(word)\n",
    "        wordlist.sort()\n",
    "        print (wordlist)\n",
    "alphasort()"
   ]
  }
 ],
 "metadata": {
  "kernelspec": {
   "display_name": "Python 3 (ipykernel)",
   "language": "python",
   "name": "python3"
  },
  "language_info": {
   "codemirror_mode": {
    "name": "ipython",
    "version": 3
   },
   "file_extension": ".py",
   "mimetype": "text/x-python",
   "name": "python",
   "nbconvert_exporter": "python",
   "pygments_lexer": "ipython3",
   "version": "3.9.7"
  }
 },
 "nbformat": 4,
 "nbformat_minor": 5
}
